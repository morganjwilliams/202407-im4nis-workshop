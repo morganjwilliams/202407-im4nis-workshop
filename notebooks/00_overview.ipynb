{
 "cells": [
  {
   "cell_type": "markdown",
   "metadata": {},
   "source": [
    "| [**Overview**](./00_overview.ipynb) | [**From Data Exploration to Machine Learning**](./01_EDA.ipynb) | [**Using IM4NIS `sklearn` Models**](./02_LoadModels.ipynb) | [**Making Predictions**](./03_Predictions.ipynb)|\n",
    "| -- | -- | -- | -- |\n",
    "\n",
    "\n",
    "# Working with Geochemical Data in Python:<br> Analytics-focused Application to Indicator Mineral Chemistry\n",
    "\n",
    "\n",
    "This repository contains a short introduction to using geochemical data in Python, covering basics of visualisation and exploratory data analysis, and illustrating how this data can be used as inputs to simple machine learning models. The first parts of this session will focus on `pyrolite` and other foundational tools in the scientific Python ecosystem, and latter parts will use `scikit-learn` to construct and evaluate some machine learning workflows.\n",
    "\n",
    "### IM4NiS Dataset Setup\n",
    "\n",
    "Before we get started, we probably want to get our dataset sorted:\n",
    "* From the default landing page (this notebook), first navigate to one-folder-up (`202407-im4nis-workshop`) in the Jupyter lab file browser, then to the `data` folder.\n",
    "* You can upload files by click-dragging them into the Jupyter lab file browser:\n",
    "    * Upload the list of downloads (a text file) to this `data` folder, and then [**see the download notebook here**](../data/DownloadData.ipynb).\n",
    "    * For a latter notebook, you'll also want to upload the HMMA dataset (`HMMA_Spinel_Locations_apfu.xlsx`)\n",
    "\n",
    "### What to Expect\n",
    "\n",
    "* This workshop will provide a bit of an insight into what we've been using behind the scenes for some of the analytics side of the IM4NiS project.\n",
    "* We'll go through a range of things from loading data, making plots, basic machine learning models through to more specific things related to IM4NiS.\n",
    "* All the code we'll use is free and open-source, but some of the data remains restricted to project partners. If you're reading this, tried to run something and it broke because data is missing and you don't know where to find it, assume that it's restricted!\n",
    "* There will be a bit of an introduction to Python and Jupyter (the tools we'll use here), but it will not be in depth.\n",
    "    * You will be presented with a mix of documentation and Python code; you won't be expected to be able to edit or debug the Python code.\n",
    "    * Generally it's setup such that you can run through the notebooks without any prior knowledge of Python.\n",
    "    * *That being said, if you have a known allergy to 'code', you may also take a coffee break a bit early.*\n",
    "    * *If you know some Python, it might feel slow/basic. If you don't, it might feel fast/super complicated.*\n",
    "* In the workshop, we'll run the notebooks via Binder - an online service to provide a configured environment; you won't need to install anything locally.\n",
    "    * One consequence of this is that we'll need to separately upload restricted data.\n",
    "    * Another is that your 'progress' wont' be saved, and eventually this server will time-out.\n",
    "    * If this happens, anything you've modified or uploaded will be gone (i.e., you'll need to re-upload any datasets).\n",
    "* This repository will remain as an open artefact for you to return to later. Eventually, some things may break and it may not run, but in the near future expect that you can reproduce everything we'll go through today in your own time.\n"
   ]
  },
  {
   "cell_type": "markdown",
   "metadata": {},
   "source": [
    "---\n",
    "\n",
    "\n",
    "<img src=\"https://pyrolite.readthedocs.io/en/main/_static/icon.png\" style=\"display:inline; float: right; margin: 0px 15px 15px 0px;\" width=\"20%\"/>\n",
    "\n",
    "pyrolite is an open-source Python package for working with geochemical data which aims to help geoscientists new to coding get off the ground quickly. It contains a variety of functionality for the processing, transformation and visualisation of geochemical and mineralogical data. For more information on `pyrolite`, visit the [documentation page](https://pyrolite.rtfd.io/en/develop/), where there is [a gallery of examples](https://pyrolite.readthedocs.io/en/develop/examples/index.html). Note that the content for this workshop exclusively works with >= v0.3.5.post0, which is accessible via PyPI (i.e. using `pip`) or on GitHub [from GitHub](https://github.com/morganjwilliams/pyrolite/tree/0.3.5). If you want to check out some of my other open software projects, most are listed on [my GitHub profile](https://github.com/morganjwilliams). Feel free to get in touch - send an email to `morgan.williams` _at_ `csiro.au`.\n",
    "\n"
   ]
  }
 ],
 "metadata": {
  "kernelspec": {
   "display_name": "im4nis-workshop-env",
   "language": "python",
   "name": "python3"
  },
  "language_info": {
   "codemirror_mode": {
    "name": "ipython",
    "version": 3
   },
   "file_extension": ".py",
   "mimetype": "text/x-python",
   "name": "python",
   "nbconvert_exporter": "python",
   "pygments_lexer": "ipython3",
   "version": "3.11.0"
  }
 },
 "nbformat": 4,
 "nbformat_minor": 4
}
