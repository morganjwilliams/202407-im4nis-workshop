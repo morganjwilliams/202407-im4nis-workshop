{
 "cells": [
  {
   "cell_type": "markdown",
   "metadata": {},
   "source": [
    "| [**Overview**](./00_overview.ipynb) | [**From Data Exploration to Machine Learning**](./01_EDA.ipynb) | [**Using `sklearn` Models**](./02_LoadModels.ipynb) | [**Making Predictions**](./03_Predictions.ipynb)|\n",
    "| -- | -- | -- | -- |\n",
    "\n",
    "\n",
    "<img src=\"https://pyrolite.readthedocs.io/en/main/_static/icon.png\" style=\"display:inline; float: right; margin: 0px 15px 15px 0px;\" width=\"20%\"/>\n",
    "\n",
    "# Working with Geochemical Data in Python: An Analytics-focused Introduction\n",
    "\n",
    "\n",
    "This repository contains a short introduction to using geochemical data in Python, covering basics of visualisation and exploratory data analysis, and illustrating how this data can be used as inputs to simple machine learning models. The first parts of this session will focus on `pyrolite` and other foundational tools in the scientific Python ecosystem, and latter parts will use `scikit-learn` to construct and evaluate some machine learning workflows. pyrolite is an open-source Python package for working with geochemical data which aims to help geoscientists new to coding get off the ground quickly. It contains a variety of functionality for the processing, transformation and visualisation of geochemical and mineralogical data. For more information on `pyrolite`, visit the [documentation page](https://pyrolite.rtfd.io/en/develop/), where there is [a gallery of examples](https://pyrolite.readthedocs.io/en/develop/examples/index.html). \n",
    "\n",
    "### IM4NiS Dataset Setup\n",
    "\n",
    "Before we get started, we probably want to get our dataset sorted:\n",
    "* Upload the list of downloads (a text file) to the `./data/` folder, and then see the download notebook [here](../data/DownloadData.ipynb).\n",
    "* For the latter notebook, you'll also want to upload the HMMA dataset (`HMMA_Spinel_Locations_apfu.xlsx`)"
   ]
  },
  {
   "cell_type": "markdown",
   "metadata": {},
   "source": [
    "---\n",
    "Note that the content for this workshop exclusively works with >= v0.3.5, which is accessible via PyPI (i.e. using `pip`) or on GitHub [from GitHub](https://github.com/morganjwilliams/pyrolite/tree/0.3.5). If you want to check out some of my other open software projects, most are listed on [my GitHub profile](https://github.com/morganjwilliams). Feel free to get in touch - send an email to `morgan.williams` _at_ `csiro.au`.\n",
    "\n"
   ]
  }
 ],
 "metadata": {
  "kernelspec": {
   "display_name": "im4nis-workshop-env",
   "language": "python",
   "name": "python3"
  },
  "language_info": {
   "codemirror_mode": {
    "name": "ipython",
    "version": 3
   },
   "file_extension": ".py",
   "mimetype": "text/x-python",
   "name": "python",
   "nbconvert_exporter": "python",
   "pygments_lexer": "ipython3",
   "version": "3.11.0"
  }
 },
 "nbformat": 4,
 "nbformat_minor": 4
}
