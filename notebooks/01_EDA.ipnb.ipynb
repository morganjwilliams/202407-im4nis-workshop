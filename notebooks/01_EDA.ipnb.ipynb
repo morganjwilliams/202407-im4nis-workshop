{
 "cells": [
  {
   "cell_type": "markdown",
   "metadata": {},
   "source": [
    "| [**Overview**](./00_overview.ipynb) | [**EDA**](./01_EDA.ipynb) | [**Using `sklearn` Models**](./02_UsingModels.ipynb) |\n",
    "| -- | -- | -- |\n",
    "\n",
    "\n",
    "# Exploratory Geochemical Data Analyis in Python\n",
    "\n",
    "In this notebook we'll:\n",
    "* Introduce Python\n",
    "* Introduce some of the key packages we'll be using: `matplotlib`, `Pandas` and `pyrolite`\n",
    "* Load up some data, do some basic analysis, and make some simple plots"
   ]
  },
  {
   "cell_type": "code",
   "execution_count": null,
   "metadata": {},
   "outputs": [],
   "source": []
  },
  {
   "cell_type": "markdown",
   "metadata": {
    "vscode": {
     "languageId": "plaintext"
    }
   },
   "source": [
    "| [**Overview**](./00_overview.ipynb) | [**EDA**](./01_EDA.ipynb) | [**Using `sklearn` Models**](./02_UsingModels.ipynb) |\n",
    "| -- | -- | -- |\n"
   ]
  }
 ],
 "metadata": {
  "language_info": {
   "name": "python"
  }
 },
 "nbformat": 4,
 "nbformat_minor": 2
}
