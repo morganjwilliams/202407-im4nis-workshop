{
 "cells": [
  {
   "cell_type": "markdown",
   "metadata": {},
   "source": [
    "| [**Overview**](./00_overview.ipynb) | [**EDA**](./01_EDA.ipynb) | [**Using `sklearn` Models**](./02_UsingModels.ipynb) |\n",
    "| -- | -- | -- |\n",
    "\n",
    "# Loading and Using Existing `sklearn` to Make Predictions\n",
    "\n",
    "In this notebook we'll:\n",
    "* Upload some serialized models which have already been trained to Jupyter Lab\n",
    "* Load these models into `sklearn` object using `joblib`\n",
    "* Use these models with appropriate data to make new predictions\n",
    "* Serialize these predictions for use elsewhere"
   ]
  },
  {
   "cell_type": "code",
   "execution_count": null,
   "metadata": {},
   "outputs": [],
   "source": []
  },
  {
   "cell_type": "markdown",
   "metadata": {},
   "source": [
    "| [**Overview**](./00_overview.ipynb) | [**EDA**](./01_EDA.ipynb) | [**Using `sklearn` Models**](./02_UsingModels.ipynb) |\n",
    "| -- | -- | -- |\n"
   ]
  }
 ],
 "metadata": {
  "language_info": {
   "name": "python"
  }
 },
 "nbformat": 4,
 "nbformat_minor": 2
}
