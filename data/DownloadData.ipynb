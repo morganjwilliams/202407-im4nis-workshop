{
 "cells": [
  {
   "cell_type": "markdown",
   "metadata": {},
   "source": [
    "# Download IM4NiS Data\n",
    "\n",
    "This notebook will download files from DAP based on URLs listed in a text file, which you'll need to upload."
   ]
  },
  {
   "cell_type": "code",
   "execution_count": null,
   "metadata": {},
   "outputs": [],
   "source": [
    "from pathlib import Path\n",
    "from dap import download_from_DAP_links\n",
    "\n",
    "fpaths = list(  # look for files which match the collection ID\n",
    "    Path(\"./\").glob(\"61745*.txt\")\n",
    ")\n",
    "if fpaths:\n",
    "    dap_items = download_from_DAP_links(\n",
    "        fpaths[0],\n",
    "        fltr=\"MachineLearningModels\",\n",
    "        output_dir=\"./\",\n",
    "    )\n"
   ]
  }
 ],
 "metadata": {
  "language_info": {
   "name": "python"
  }
 },
 "nbformat": 4,
 "nbformat_minor": 2
}
