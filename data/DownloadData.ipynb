{
 "cells": [
  {
   "cell_type": "markdown",
   "metadata": {},
   "source": [
    "# Download IM4NiS Data\n",
    "\n",
    "This notebook will download files from DAP based on URLs listed in a text file, which you'll need to upload.\n",
    "\n",
    "This workshop is based on a [restricted dataset in DAP](https://data.csiro.au/collection/csiro:61369).\n",
    "\n",
    "From there to acquire the download list, you'll need to navigate to 'Files' -> 'Download' and select 'Get list of file download links', and then add the resultant file (filename starting 61745...) to this folder.\n",
    "\n",
    "Alternately, you can just download the folder 'Machine Learning Models' as a Zip archive (note, use the 'Download selected files as a ZIP archive' option).\n",
    "You can then extract the ZIP archive, and copy the 'Machine Learning Models' folder under `/data/` to this location."
   ]
  },
  {
   "cell_type": "code",
   "execution_count": null,
   "metadata": {},
   "outputs": [],
   "source": [
    "from pathlib import Path\n",
    "from dap import download_from_DAP_links\n",
    "\n",
    "# look for files which match the collection ID\n",
    "\n",
    "fpaths = list(Path(\"./\").glob(\"61745*.txt\"))\n",
    "if fpaths:\n",
    "    dap_items = download_from_DAP_links(\n",
    "        fpaths[0], fltr=\"MachineLearningModels\", output_dir=\"./\"\n",
    "    )"
   ]
  }
 ],
 "metadata": {
  "kernelspec": {
   "display_name": "im4nis-workshop-env",
   "language": "python",
   "name": "python3"
  },
  "language_info": {
   "codemirror_mode": {
    "name": "ipython",
    "version": 3
   },
   "file_extension": ".py",
   "mimetype": "text/x-python",
   "name": "python",
   "nbconvert_exporter": "python",
   "pygments_lexer": "ipython3",
   "version": "3.11.0"
  }
 },
 "nbformat": 4,
 "nbformat_minor": 2
}
